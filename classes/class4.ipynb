{
 "cells": [
  {
   "cell_type": "code",
   "execution_count": null,
   "metadata": {},
   "outputs": [],
   "source": [
    "name1 : str = \"Masab\"\n",
    "name2 : str = \"msd\"\n",
    "name3 : str = \"daada\"\n",
    "\n"
   ]
  },
  {
   "cell_type": "code",
   "execution_count": 1,
   "metadata": {},
   "outputs": [
    {
     "name": "stdout",
     "output_type": "stream",
     "text": [
      "Masab\n",
      "Masab\n",
      "mbz\n"
     ]
    }
   ],
   "source": [
    "names : list = [\"Masab\",\"mbz\",\"zoa\"]\n",
    "print(names[0])\n",
    "print(names[-3])\n",
    "print(names[-2])"
   ]
  },
  {
   "cell_type": "code",
   "execution_count": 5,
   "metadata": {},
   "outputs": [
    {
     "name": "stdout",
     "output_type": "stream",
     "text": [
      "Frontend Dev MASAB\n"
     ]
    }
   ],
   "source": [
    "from typing import Any\n",
    "\n",
    "names:list[Any] = [\"Masab\",\"mbz\",\"zoa\"]\n",
    "print(f'Frontend Dev {names[-3].upper()}')"
   ]
  },
  {
   "cell_type": "code",
   "execution_count": 7,
   "metadata": {},
   "outputs": [
    {
     "name": "stdout",
     "output_type": "stream",
     "text": [
      "['J', 'A']\n"
     ]
    }
   ],
   "source": [
    "characters:list[str] = list('JADJADJADJOWIQQPDOWQPDOWQODQWOP')\n",
    "print(characters[0:2])"
   ]
  },
  {
   "cell_type": "code",
   "execution_count": 8,
   "metadata": {},
   "outputs": [
    {
     "name": "stdout",
     "output_type": "stream",
     "text": [
      "['Masab', 'mbz', 'zoa', 20, True]\n",
      "True\n"
     ]
    }
   ],
   "source": [
    "names : list[Any]= [\"Masab\",\"mbz\",\"zoa\",20,True]\n",
    "print(names)\n",
    "a:str = names.pop()\n",
    "print(a)"
   ]
  },
  {
   "cell_type": "code",
   "execution_count": 11,
   "metadata": {},
   "outputs": [
    {
     "name": "stdout",
     "output_type": "stream",
     "text": [
      "['dadada', 'weqewqa']\n"
     ]
    }
   ],
   "source": [
    "names : list[str]= []\n",
    "names.append('dadada')\n",
    "names.append('weqewqa')\n",
    "print(names)\n"
   ]
  },
  {
   "cell_type": "code",
   "execution_count": 12,
   "metadata": {},
   "outputs": [
    {
     "name": "stdout",
     "output_type": "stream",
     "text": [
      "['a', 'b', 'c']\n",
      "['a', 'masda', 'b', 'c']\n"
     ]
    }
   ],
   "source": [
    "names : list [str] =['a','b','c']\n",
    "print(names)\n",
    "names.insert(1,\"masda\")\n",
    "print(names)"
   ]
  },
  {
   "cell_type": "code",
   "execution_count": 13,
   "metadata": {},
   "outputs": [
    {
     "name": "stdout",
     "output_type": "stream",
     "text": [
      "[]\n"
     ]
    }
   ],
   "source": [
    "a:list[int]=[1,2,3]\n",
    "a.clear()\n",
    "print(a)"
   ]
  },
  {
   "cell_type": "code",
   "execution_count": 15,
   "metadata": {},
   "outputs": [
    {
     "name": "stdout",
     "output_type": "stream",
     "text": [
      "[1, 2, 3]\n",
      "[1, 2, 3]\n",
      "['sdsad', 2, 3]\n",
      "['sdsad', 2, 3]\n"
     ]
    }
   ],
   "source": [
    "a:list[int]=[1,2,3]\n",
    "b=a\n",
    "print(a)\n",
    "print(b)\n",
    "b[0]='sdsad'\n",
    "print(a)\n",
    "print(b)"
   ]
  },
  {
   "cell_type": "code",
   "execution_count": 16,
   "metadata": {},
   "outputs": [
    {
     "name": "stdout",
     "output_type": "stream",
     "text": [
      "[1, 2, 3]\n",
      "[1, 2, 3]\n",
      "[1, 2, 3]\n",
      "['sdsad', 2, 3]\n"
     ]
    }
   ],
   "source": [
    "a:list[int]=[1,2,3]\n",
    "b=a.copy()\n",
    "print(a)\n",
    "print(b)\n",
    "b[0]='sdsad'\n",
    "print(a)\n",
    "print(b)"
   ]
  },
  {
   "cell_type": "code",
   "execution_count": 18,
   "metadata": {},
   "outputs": [
    {
     "name": "stdout",
     "output_type": "stream",
     "text": [
      "4\n"
     ]
    }
   ],
   "source": [
    "a:list[int]=[1,2,3,4,3,6,3,8,3,10]\n",
    "print(a.count(3))"
   ]
  },
  {
   "cell_type": "code",
   "execution_count": 21,
   "metadata": {},
   "outputs": [
    {
     "data": {
      "text/plain": [
       "['Masab', 'mbz', 'zoa', ['dadadadada']]"
      ]
     },
     "execution_count": 21,
     "metadata": {},
     "output_type": "execute_result"
    }
   ],
   "source": [
    "names:list[str] = [\"Masab\",\"mbz\",\"zoa\"]\n",
    "\n",
    "new :list[str]=['dadadadada']\n",
    "names.append(new)\n",
    "\n",
    "names"
   ]
  },
  {
   "cell_type": "code",
   "execution_count": 22,
   "metadata": {},
   "outputs": [
    {
     "data": {
      "text/plain": [
       "['Masab', 'mbz', 'zoa', 'dadadadada']"
      ]
     },
     "execution_count": 22,
     "metadata": {},
     "output_type": "execute_result"
    }
   ],
   "source": [
    "names:list[str] = [\"Masab\",\"mbz\",\"zoa\"]\n",
    "\n",
    "new :list[str]=['dadadadada']\n",
    "names.extend(new)\n",
    "\n",
    "names"
   ]
  },
  {
   "cell_type": "code",
   "execution_count": 24,
   "metadata": {},
   "outputs": [
    {
     "data": {
      "text/plain": [
       "['Masab', 'zoa']"
      ]
     },
     "execution_count": 24,
     "metadata": {},
     "output_type": "execute_result"
    }
   ],
   "source": [
    "names:list[str] = [\"Masab\",\"mbz\",\"zoa\"]\n",
    "\n",
    "names.remove('mbz')\n",
    "names"
   ]
  },
  {
   "cell_type": "code",
   "execution_count": 28,
   "metadata": {},
   "outputs": [
    {
     "data": {
      "text/plain": [
       "['Masab', 'mbz', 'zoa']"
      ]
     },
     "execution_count": 28,
     "metadata": {},
     "output_type": "execute_result"
    }
   ],
   "source": [
    "names:list[str] = [\"Masab\",\"mbz\",\"zoa\"]\n",
    "\n",
    "names.index('mbz',1)\n",
    "names"
   ]
  },
  {
   "cell_type": "code",
   "execution_count": 29,
   "metadata": {},
   "outputs": [
    {
     "name": "stdout",
     "output_type": "stream",
     "text": [
      "['A', 'B', 'C', 'D', 'E', 'F']\n",
      "['F', 'E', 'D', 'C', 'B', 'A']\n"
     ]
    }
   ],
   "source": [
    "names:list[str] =list(\"ABCDEF\")\n",
    "print(names)\n",
    "names.reverse()\n",
    "print(names)"
   ]
  },
  {
   "cell_type": "code",
   "execution_count": 31,
   "metadata": {},
   "outputs": [
    {
     "name": "stdout",
     "output_type": "stream",
     "text": [
      "6\n",
      "['F', 'E', 'D', 'C', 'B', 'A']\n"
     ]
    }
   ],
   "source": [
    "names:list[str] =list(\"ABCDEF\")\n",
    "print(len(names))\n",
    "names.sort(reverse=True)\n",
    "print(names)"
   ]
  }
 ],
 "metadata": {
  "kernelspec": {
   "display_name": "python12",
   "language": "python",
   "name": "python3"
  },
  "language_info": {
   "codemirror_mode": {
    "name": "ipython",
    "version": 3
   },
   "file_extension": ".py",
   "mimetype": "text/x-python",
   "name": "python",
   "nbconvert_exporter": "python",
   "pygments_lexer": "ipython3",
   "version": "3.12.0"
  }
 },
 "nbformat": 4,
 "nbformat_minor": 2
}
