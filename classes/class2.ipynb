{
 "cells": [
  {
   "cell_type": "markdown",
   "metadata": {},
   "source": [
    "# String Data Type in python"
   ]
  },
  {
   "cell_type": "code",
   "execution_count": 6,
   "metadata": {},
   "outputs": [
    {
     "name": "stdout",
     "output_type": "stream",
     "text": [
      "<class 'str'>\n",
      "Masab Bin Zia\n"
     ]
    }
   ],
   "source": [
    "# boundries\n",
    "# 'sting' ,\"\",'' '',\"\"\" \"\"\",\n",
    "name:str =\"Masab Bin Zia\"\n",
    "print(type(name))\n",
    "print(name)"
   ]
  },
  {
   "cell_type": "code",
   "execution_count": 9,
   "metadata": {},
   "outputs": [],
   "source": [
    "message : str = \"PIAIC Student Card \\n father's Name\""
   ]
  },
  {
   "cell_type": "code",
   "execution_count": 49,
   "metadata": {},
   "outputs": [
    {
     "name": "stdout",
     "output_type": "stream",
     "text": [
      "PIAIC Student Card\n",
      " Student : Masab Bin Zia\n",
      "Age : 22\n"
     ]
    }
   ],
   "source": [
    "name:str =\"Masab Bin Zia\"\n",
    "father_name:str=\"Zia Uddin\"\n",
    "education :str ='BSCS'\n",
    "age:int =22\n",
    "card : str = \"PIAIC Student Card\\n Student : \"+ name + \"\\nAge : \" + str(age)\n",
    "print(card)"
   ]
  },
  {
   "cell_type": "code",
   "execution_count": 58,
   "metadata": {},
   "outputs": [
    {
     "name": "stdout",
     "output_type": "stream",
     "text": [
      "17\n"
     ]
    }
   ],
   "source": [
    "print(7+8+2)\n"
   ]
  },
  {
   "cell_type": "code",
   "execution_count": 59,
   "metadata": {},
   "outputs": [
    {
     "name": "stdout",
     "output_type": "stream",
     "text": [
      "\n",
      "name:\n",
      "father_name:\n",
      "education \n",
      "age:\n",
      "\n"
     ]
    }
   ],
   "source": [
    "name:str =\"Masab Bin Zia\"\n",
    "father_name:str=\"Zia Uddin\"\n",
    "education :str ='BSCS'\n",
    "age:int =22\n",
    "card : str = \"\"\"\n",
    "name:\n",
    "father_name:\n",
    "education \n",
    "age:\n",
    "\"\"\"\n",
    "print(card)"
   ]
  },
  {
   "cell_type": "code",
   "execution_count": 60,
   "metadata": {},
   "outputs": [
    {
     "name": "stdout",
     "output_type": "stream",
     "text": [
      "\n",
      "name:Masab Bin Zia\n",
      "father_name:Zia Uddin\n",
      "education:BSCS\n",
      "age:22\n",
      "\n"
     ]
    }
   ],
   "source": [
    "name:str =\"Masab Bin Zia\"\n",
    "father_name:str=\"Zia Uddin\"\n",
    "education :str ='BSCS'\n",
    "age:int =22\n",
    "card : str = f\"\"\"\n",
    "name:{name}\n",
    "father_name:{father_name}\n",
    "education:{education}\n",
    "age:{age}\n",
    "\"\"\"\n",
    "print(card)"
   ]
  },
  {
   "cell_type": "code",
   "execution_count": 61,
   "metadata": {},
   "outputs": [
    {
     "name": "stdout",
     "output_type": "stream",
     "text": [
      "\n",
      "name: Masab Bin Zia\n",
      "father_name: Zia Uddin\n",
      "education: BSCS\n",
      "age: 22\n",
      "\n"
     ]
    }
   ],
   "source": [
    "name:str =\"Masab Bin Zia\"\n",
    "father_name:str=\"Zia Uddin\"\n",
    "education :str ='BSCS'\n",
    "age:int =22\n",
    "card : str = f\"\"\"\n",
    "name: %s\n",
    "father_name: %s\n",
    "education: %s\n",
    "age: %d\n",
    "\"\"\" %(name,father_name,education,age)\n",
    "print(card)"
   ]
  },
  {
   "cell_type": "code",
   "execution_count": 67,
   "metadata": {},
   "outputs": [
    {
     "name": "stdout",
     "output_type": "stream",
     "text": [
      "Mbz\n",
      "mbz\n"
     ]
    }
   ],
   "source": [
    "name :str = \"mBz\"\n",
    "print(name.capitalize())\n",
    "print(name.lower())"
   ]
  },
  {
   "cell_type": "code",
   "execution_count": 68,
   "metadata": {},
   "outputs": [
    {
     "data": {
      "text/plain": [
       "'pakistan value a = 7 value b = 8'"
      ]
     },
     "execution_count": 68,
     "metadata": {},
     "output_type": "execute_result"
    }
   ],
   "source": [
    "a =7 \n",
    "b=8\n",
    "\"pakistan value a = {} value b = {}\".format(a,b)"
   ]
  },
  {
   "cell_type": "code",
   "execution_count": 71,
   "metadata": {},
   "outputs": [
    {
     "name": "stdout",
     "output_type": "stream",
     "text": [
      "\n",
      "name:Masab Bin Zia\n",
      "father_name:Zia Uddin\n",
      "education:BSCS\n",
      "age:22\n",
      "\n"
     ]
    }
   ],
   "source": [
    "name:str =\"Masab Bin Zia\"\n",
    "father_name:str=\"Zia Uddin\"\n",
    "education :str ='BSCS'\n",
    "age:int =22\n",
    "card : str = \"\"\"\n",
    "name:{a}\n",
    "father_name:{b}\n",
    "education:{c}\n",
    "age:{d}\n",
    "\"\"\".format(a=name,b=father_name,c=education,d=age)\n",
    "print(card)"
   ]
  },
  {
   "cell_type": "code",
   "execution_count": 73,
   "metadata": {},
   "outputs": [
    {
     "name": "stdout",
     "output_type": "stream",
     "text": [
      "Mbz\n",
      "24\n"
     ]
    }
   ],
   "source": [
    "student_Code:str = \"\"\"\n",
    "print(\"Mbz\")\n",
    "a:int = 12\n",
    "b:int =12\n",
    "print(a+b)\n",
    "\"\"\"\n",
    "exec(student_Code)"
   ]
  },
  {
   "cell_type": "code",
   "execution_count": 74,
   "metadata": {},
   "outputs": [
    {
     "name": "stdout",
     "output_type": "stream",
     "text": [
      "['capitalize', 'casefold', 'center', 'count', 'encode', 'endswith', 'expandtabs', 'find', 'format', 'index', 'isalnum', 'isalpha', 'isascii', 'isdecimal', 'isdigit', 'isidentifier', 'islower', 'isnumeric', 'isprintable', 'isspace', 'istitle', 'isupper', 'join', 'ljust', 'lower', 'lstrip', 'maketrans', 'partition', 'removeprefix', 'removesuffix', 'replace', 'rfind', 'rindex', 'rjust', 'rpartition', 'rsplit', 'rstrip', 'split', 'splitlines', 'startswith', 'strip', 'swapcase', 'title', 'translate', 'upper', 'zfill']\n",
      "46\n"
     ]
    }
   ],
   "source": [
    "a:list[str]= [i for i in dir(str) if \"_\" not in i]\n",
    "print(a)\n",
    "print(len(a))"
   ]
  },
  {
   "cell_type": "code",
   "execution_count": 75,
   "metadata": {},
   "outputs": [
    {
     "name": "stdout",
     "output_type": "stream",
     "text": [
      "Masab bin zia\n"
     ]
    }
   ],
   "source": [
    "name :str =\"masab bin Zia\"\n",
    "print(name.capitalize())"
   ]
  },
  {
   "cell_type": "code",
   "execution_count": 76,
   "metadata": {},
   "outputs": [
    {
     "name": "stdout",
     "output_type": "stream",
     "text": [
      "masab bin zia\n"
     ]
    }
   ],
   "source": [
    "name :str =\"masab bin Zia\"\n",
    "print(name.casefold())"
   ]
  },
  {
   "cell_type": "code",
   "execution_count": 77,
   "metadata": {},
   "outputs": [
    {
     "name": "stdout",
     "output_type": "stream",
     "text": [
      "masab bin zia\n"
     ]
    }
   ],
   "source": [
    "name :str =\"masab bin Zia\"\n",
    "print(name.lower())"
   ]
  },
  {
   "cell_type": "code",
   "execution_count": 82,
   "metadata": {},
   "outputs": [
    {
     "data": {
      "text/plain": [
       "'      masab bin Zia    '"
      ]
     },
     "metadata": {},
     "output_type": "display_data"
    },
    {
     "data": {
      "text/plain": [
       "'masab bin Zia    '"
      ]
     },
     "metadata": {},
     "output_type": "display_data"
    }
   ],
   "source": [
    "name :str =\"      masab bin Zia    \"\n",
    "display(name)\n",
    "display(name.lstrip())"
   ]
  },
  {
   "cell_type": "code",
   "execution_count": 83,
   "metadata": {},
   "outputs": [
    {
     "data": {
      "text/plain": [
       "'      masab bin Zia    '"
      ]
     },
     "metadata": {},
     "output_type": "display_data"
    },
    {
     "data": {
      "text/plain": [
       "'masab bin Zia'"
      ]
     },
     "metadata": {},
     "output_type": "display_data"
    }
   ],
   "source": [
    "name :str =\"      masab bin Zia    \"\n",
    "display(name)\n",
    "display(name.strip())"
   ]
  },
  {
   "cell_type": "code",
   "execution_count": 84,
   "metadata": {},
   "outputs": [
    {
     "data": {
      "text/plain": [
       "'   masab    Mbz    '"
      ]
     },
     "metadata": {},
     "output_type": "display_data"
    },
    {
     "data": {
      "text/plain": [
       "' masab Mbz '"
      ]
     },
     "metadata": {},
     "output_type": "display_data"
    }
   ],
   "source": [
    "import re\n",
    "\n",
    "name :str = \"   masab    Mbz    \"\n",
    "display(name)\n",
    "name1:str =re.sub('  {2,100}' ,' ' ,name)\n",
    "display(name1)"
   ]
  },
  {
   "cell_type": "code",
   "execution_count": 85,
   "metadata": {},
   "outputs": [
    {
     "name": "stdout",
     "output_type": "stream",
     "text": [
      "Masa\n"
     ]
    }
   ],
   "source": [
    "_1name:str =\"Masa\"\n",
    "print(_1name)"
   ]
  },
  {
   "cell_type": "code",
   "execution_count": 86,
   "metadata": {},
   "outputs": [
    {
     "name": "stdout",
     "output_type": "stream",
     "text": [
      "Masab\n"
     ]
    }
   ],
   "source": [
    "PIAIC_student_name :str = \"Masab\"\n",
    "print(PIAIC_student_name)"
   ]
  }
 ],
 "metadata": {
  "kernelspec": {
   "display_name": "python12",
   "language": "python",
   "name": "python3"
  },
  "language_info": {
   "codemirror_mode": {
    "name": "ipython",
    "version": 3
   },
   "file_extension": ".py",
   "mimetype": "text/x-python",
   "name": "python",
   "nbconvert_exporter": "python",
   "pygments_lexer": "ipython3",
   "version": "3.12.0"
  }
 },
 "nbformat": 4,
 "nbformat_minor": 2
}
